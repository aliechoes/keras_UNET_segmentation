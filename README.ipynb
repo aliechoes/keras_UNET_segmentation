{
 "cells": [
  {
   "cell_type": "markdown",
   "metadata": {},
   "source": [
    "# Keras implementation of a UNET for image segmentation\n",
    "\n",
    "This repository provides a keras implementation of a [UNET](https://arxiv.org/abs/1505.04597) and tests it by performing segmentation on publicly available data.\n",
    "\n",
    "## Corresponding blog post:\n",
    "\n",
    "The results presented in this repository are explained in detail in this [blog post](https://nchlis.github.io/2019_10_30/page.html).\n",
    "\n",
    "## Data: we will use the C. Elegans data available from the [Broad Bioimage Benchmark Collection](https://data.broadinstitute.org/bbbc/BBBC010/)\n",
    "\n",
    "- [Input images](https://data.broadinstitute.org/bbbc/BBBC010/BBBC010_v2_images.zip): download and extract into ./data, then delete the '\\_MACOSX' subfolder within BBBC010_v2_images. Each input image corresponds to two input channels (Brightfield/GFP). Each channel corresponds to a separate grayscale image.\n",
    "- [Target masks](https://data.broadinstitute.org/bbbc/BBBC010/BBBC010_v1_foreground.zip): download and extract into ./data\n",
    "\n",
    "The goal is to predict the segmentation mask of each image, based on the two input channels. An example image is shown below:\n",
    "\n",
    "![demo image](./figures/example_image.png)\n",
    "\n",
    "## List of files:\n",
    "- load_data.py: loads the data, splits into training, validation and test sets, and saves them to disk as numpy arrays. The images are resized to 400x400 pixels and normalized to [0,1].\n",
    "- unet_train.py: trains a UNET implemented with keras on the training data. Saves the best model according to the performance on the validation set.\n",
    "- unet_evaluate.py: evaluates the performance of the trained model on the left out test set.\n",
    "- mcd_unet_train.py: trains a Monte Carlo Dropout (MCD) UNET implemented with keras on the training data. Saves the best model according to the performance on the validation set. The advantage of the MCD UNET is its ability to generate segmentation maps, as well as uncertainty estimates.\n",
    "- mcd_unet_evaluate.py: evaluates the performance of the trained MCD UNET model on the left out test set.\n",
    "\n",
    "\n",
    "## Results:\n",
    "\n",
    "The trained UNET network achieves a median [dice score](https://en.wikipedia.org/wiki/S%C3%B8rensen%E2%80%93Dice_coefficient) of 92.4% on the left out test set, while the MCD UNET achieves a similar dice score of 90.5% while also estimating the uncertainty of the predicted segmentation maps. All test set predictions for UNET can be found [here](./figures/test_set_all_unet_div8_495K.png), while all test set predictions for MCD UNET can be found [here](./figures/test_set_all_mcd_unet_div8_495K.png). The results of the MCD unet correspond to averaged results of T=20 models with dropout probability of 50% during inference time (during model.predict()), similar to what is presented in [DeVries et al., 2018](https://arxiv.org/abs/1807.00502).\n",
    "\n",
    "The dice scores achieved by both models on the test set are summarized visually as follows:\n",
    "<img src=\"./figures/test_set_dice_both.png\" alt=\"dice both\" width=\"400\">\n",
    "\n",
    "\n",
    "Some exemplary results for both models are the following:\n",
    "\n",
    "#### UNET\n",
    "\n",
    "Here we can see the input channels, as well as the true and predicted segmentation masks.\n",
    "\n",
    "<!--<img src=\"./figures/test_set_all_unet_div8_495K_cropped.png\" alt=\"dice\" width=\"400\"/>-->\n",
    "<img src=\"./figures/test_set_all_unet_div8_495K_cropped.png\" alt=\"unet example\" align=\"left\" height=\"300\">\n",
    "<br>\n",
    "<br>\n",
    "<br>\n",
    "<br>\n",
    "<br>\n",
    "<br>\n",
    "<br>\n",
    "<br>\n",
    "<br>\n",
    "<br>\n",
    "Next, for the MCD UNET we can see the segmentation, as well as its corresponding uncertainty:\n",
    "\n",
    "#### MCD UNET\n",
    "\n",
    "<img src=\"./figures/test_set_all_mcd_unet_div8_495K_cropped.png\" alt=\"mcd unet example\" align=\"center\" height=\"300\">\n",
    "\n"
   ]
  }
 ],
 "metadata": {
  "kernelspec": {
   "display_name": "Python 3",
   "language": "python",
   "name": "python3"
  },
  "language_info": {
   "codemirror_mode": {
    "name": "ipython",
    "version": 3
   },
   "file_extension": ".py",
   "mimetype": "text/x-python",
   "name": "python",
   "nbconvert_exporter": "python",
   "pygments_lexer": "ipython3",
   "version": "3.5.3"
  }
 },
 "nbformat": 4,
 "nbformat_minor": 2
}
