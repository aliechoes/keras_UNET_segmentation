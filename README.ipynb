{
 "cells": [
  {
   "cell_type": "markdown",
   "metadata": {},
   "source": [
    "# Keras implementation of a UNET for image segmentation\n",
    "\n",
    "This repository provides a keras implementation of a [UNET](https://arxiv.org/abs/1505.04597) and tests it by performing segmentation on publicly available data.\n",
    "\n",
    "## Data: we will use the C. Elegans data available from the [Broad Bioimage Benchmark Collection](http://localhost:8888/tree/Documents/PhD/Py_files/github_repos/keras_UNET_segmentation)\n",
    "\n",
    "- [Input images](https://data.broadinstitute.org/bbbc/BBBC010/BBBC010_v2_images.zip): download and extract into ./data, then delete the '\\_' within BBBC010_v2_images. Each input image corresponds to two input channels (Brightfield/GFP). Each channel corresponds to a separate grayscale image.\n",
    "- [Target masks](https://data.broadinstitute.org/bbbc/BBBC010/BBBC010_v1_foreground.zip): download and extract into ./data\n",
    "\n",
    "The goal is to predict the segmentation mask of each image, based on the two input channels. An example image is shown below:\n",
    "\n",
    "![demo image](./example_image.png)\n",
    "\n",
    "## List of files:\n",
    "- load_data.py: loads the data, splits into training, validation and test sets, and saves them to disk as numpy arrays. The images are resized to 400x400 pixels and normalized to [0,1].\n",
    "- unet_train.py: trains a UNET implemented with keras on the training data. Saves the best model according to the performance on the validation set.\n",
    "- unet_evaluate.py: evaluates the performance of the trained model on the left out test set.\n",
    "\n",
    "## Results:\n",
    "\n",
    "The trained network achieves a median [dice score](https://en.wikipedia.org/wiki/S%C3%B8rensen%E2%80%93Dice_coefficient) of 90.8% on the left out test set.\n",
    "\n",
    "<img src=\"./test_set_dice.png\" alt=\"dice\" width=\"400\"/>\n",
    "\n",
    "Some example results are the following:\n",
    "\n",
    "<img src=\"./test_set_predictions_cropped.png\" alt=\"dice\" width=\"400\"/>\n"
   ]
  }
 ],
 "metadata": {
  "kernelspec": {
   "display_name": "Python 3",
   "language": "python",
   "name": "python3"
  },
  "language_info": {
   "codemirror_mode": {
    "name": "ipython",
    "version": 3
   },
   "file_extension": ".py",
   "mimetype": "text/x-python",
   "name": "python",
   "nbconvert_exporter": "python",
   "pygments_lexer": "ipython3",
   "version": "3.5.3"
  }
 },
 "nbformat": 4,
 "nbformat_minor": 2
}
